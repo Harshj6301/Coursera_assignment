{
 "cells": [
  {
   "cell_type": "markdown",
   "id": "e238c750",
   "metadata": {},
   "source": [
    "# My Jupyter Notebook in Jupyter Local"
   ]
  },
  {
   "cell_type": "markdown",
   "id": "d346ad45",
   "metadata": {},
   "source": [
    " **Jadhav Harshvardhan**"
   ]
  },
  {
   "cell_type": "markdown",
   "id": "7df251cf",
   "metadata": {},
   "source": [
    "*I am interested in data science because I love the sheer amount of possibilities it opens for us once we truly understand data*"
   ]
  },
  {
   "cell_type": "markdown",
   "id": "970eb022",
   "metadata": {},
   "source": [
    "### The following code gives the square of the given number"
   ]
  },
  {
   "cell_type": "code",
   "execution_count": 4,
   "id": "85d04b45",
   "metadata": {},
   "outputs": [
    {
     "name": "stdout",
     "output_type": "stream",
     "text": [
      "Enter a number: 8\n",
      "The square of the given number is:  64\n"
     ]
    }
   ],
   "source": [
    "num1 = int(input('Enter a number: '))\n",
    "square = num1 * num1\n",
    "print('The square of the given number is: ', square)"
   ]
  },
  {
   "cell_type": "markdown",
   "id": "7d3581d5",
   "metadata": {},
   "source": [
    "- num1 is the input variable\n",
    "- square is the formula\n",
    "- printing the result from the square variable\n",
    "---\n",
    "| num1 | square |\n",
    "| ----------- | ----------- |\n",
    "| 5 | 25 |\n",
    "| 8 | 64 |"
   ]
  },
  {
   "cell_type": "code",
   "execution_count": null,
   "id": "74158d04",
   "metadata": {},
   "outputs": [],
   "source": []
  }
 ],
 "metadata": {
  "kernelspec": {
   "display_name": "Python 3 (ipykernel)",
   "language": "python",
   "name": "python3"
  },
  "language_info": {
   "codemirror_mode": {
    "name": "ipython",
    "version": 3
   },
   "file_extension": ".py",
   "mimetype": "text/x-python",
   "name": "python",
   "nbconvert_exporter": "python",
   "pygments_lexer": "ipython3",
   "version": "3.9.7"
  }
 },
 "nbformat": 4,
 "nbformat_minor": 5
}
